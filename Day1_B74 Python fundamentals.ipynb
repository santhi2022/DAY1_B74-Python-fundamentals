{
 "cells": [
  {
   "cell_type": "code",
   "execution_count": 2,
   "id": "75944c18",
   "metadata": {},
   "outputs": [
    {
     "name": "stdout",
     "output_type": "stream",
     "text": [
      "Hellow all welcome to python fundamentals world\n"
     ]
    }
   ],
   "source": [
    "print(\"Hellow all welcome to python fundamentals world\")"
   ]
  },
  {
   "cell_type": "code",
   "execution_count": 3,
   "id": "e05044b5",
   "metadata": {},
   "outputs": [],
   "source": [
    "# is the ignore ..>it will not read \n"
   ]
  },
  {
   "cell_type": "code",
   "execution_count": 4,
   "id": "b96614ff",
   "metadata": {},
   "outputs": [
    {
     "ename": "SyntaxError",
     "evalue": "invalid syntax (1543185398.py, line 1)",
     "output_type": "error",
     "traceback": [
      "\u001b[1;36m  Input \u001b[1;32mIn [4]\u001b[1;36m\u001b[0m\n\u001b[1;33m    this box is called as \"Input cell\"\u001b[0m\n\u001b[1;37m         ^\u001b[0m\n\u001b[1;31mSyntaxError\u001b[0m\u001b[1;31m:\u001b[0m invalid syntax\n"
     ]
    }
   ],
   "source": [
    "this box is called as \"Input cell\""
   ]
  },
  {
   "cell_type": "code",
   "execution_count": 9,
   "id": "65730f16",
   "metadata": {},
   "outputs": [
    {
     "name": "stdout",
     "output_type": "stream",
     "text": [
      "This box is called as Input cell\n"
     ]
    }
   ],
   "source": [
    "print(\"This box is called as Input cell\")"
   ]
  },
  {
   "cell_type": "code",
   "execution_count": 11,
   "id": "da14e334",
   "metadata": {},
   "outputs": [],
   "source": [
    "#out side is output...>we will use Shift+enter for output"
   ]
  },
  {
   "cell_type": "code",
   "execution_count": null,
   "id": "0f9eb2f7",
   "metadata": {},
   "outputs": [],
   "source": []
  }
 ],
 "metadata": {
  "kernelspec": {
   "display_name": "Python 3 (ipykernel)",
   "language": "python",
   "name": "python3"
  },
  "language_info": {
   "codemirror_mode": {
    "name": "ipython",
    "version": 3
   },
   "file_extension": ".py",
   "mimetype": "text/x-python",
   "name": "python",
   "nbconvert_exporter": "python",
   "pygments_lexer": "ipython3",
   "version": "3.9.12"
  }
 },
 "nbformat": 4,
 "nbformat_minor": 5
}
